{
 "cells": [
  {
   "cell_type": "markdown",
   "metadata": {},
   "source": [
    "# Connect Besu"
   ]
  },
  {
   "cell_type": "code",
   "execution_count": 16,
   "metadata": {},
   "outputs": [],
   "source": [
    "import websocket"
   ]
  },
  {
   "cell_type": "code",
   "execution_count": null,
   "metadata": {},
   "outputs": [],
   "source": [
    "import json, re\n",
    "from web3 import Web3\n",
    "from web3.middleware import geth_poa_middleware\n",
    "import openstack\n",
    "from dotenv import dotenv_values\n",
    "env = dotenv_values(\"../caliper-benchmarks/cc.env\")\n",
    "\n",
    "def create_connection(auth_url, region, project_name, username, password,\n",
    "                      user_domain, project_domain, project_id):\n",
    "    return openstack.connect(\n",
    "        auth_url=auth_url,\n",
    "        project_name=project_name,\n",
    "        username=username,\n",
    "        password=password,\n",
    "        region_name=region,\n",
    "        user_domain_name=user_domain,\n",
    "        project_domain_name=project_domain,\n",
    "        project_id=project_id,\n",
    "        app_name='bpet',\n",
    "        app_version='1.0',\n",
    "    )\n",
    "\n",
    "def collect_info():\n",
    "    httpUrls, wsUrls = {}, {}\n",
    "    nodes, ipAddresses = [], []\n",
    "    conn = create_connection(auth_url=env['OS_AUTH_URL'], region=env['OS_REGION_NAME'],\n",
    "        project_name=env['OS_PROJECT_NAME'], username=env['OS_USERNAME'],\n",
    "        password=env['OS_PASSWORD'], user_domain=env['OS_USER_DOMAIN_NAME'],\n",
    "        project_domain=env['OS_PROJECT_DOMAIN_NAME'], project_id=env['OS_PROJECT_ID'])\n",
    "    for server in conn.compute.servers():\n",
    "        if(re.match(r'besu-\\d+', server.name)):\n",
    "            node = server.name\n",
    "            nodes.append(node)\n",
    "            instance_id = conn.compute.find_server(node).id\n",
    "            host_ip = conn.compute.get_server(instance_id).addresses['rrg-khazaei-network'][0]['addr']\n",
    "            httpUrls[node] = 'http://{}:8545'.format(host_ip)\n",
    "            wsUrls[node] = 'ws://{}:8546'.format(host_ip)\n",
    "            ipAddresses.append(host_ip)\n",
    "    return httpUrls, wsUrls, ipAddresses, nodes\n",
    "\n",
    "httpUrls, wsUrls, ipAddresses, nodes = collect_info()\n",
    "print(httpUrls)\n",
    "print(wsUrls)"
   ]
  },
  {
   "cell_type": "code",
   "execution_count": null,
   "metadata": {},
   "outputs": [],
   "source": [
    "w3 = Web3(Web3.HTTPProvider(httpUrls[nodes[0]]))\n",
    "w3.middleware_onion.inject(geth_poa_middleware, layer=0)\n",
    "w3.isConnected()\n",
    "len(w3.geth.admin.peers())"
   ]
  },
  {
   "cell_type": "code",
   "execution_count": null,
   "metadata": {},
   "outputs": [],
   "source": [
    "urls = httpUrls\n",
    "for k,v in urls.items():\n",
    "    provider = Web3.HTTPProvider(v)\n",
    "    w3 = Web3(provider)\n",
    "    w3.middleware_onion.inject(geth_poa_middleware, layer=0)\n",
    "    peers = w3.geth.admin.peers()\n",
    "    print(k, 'has', len(peers), 'peers')"
   ]
  },
  {
   "cell_type": "code",
   "execution_count": null,
   "metadata": {},
   "outputs": [],
   "source": [
    "# send an HTTP POST request to node 0\n",
    "import requests\n",
    "def call(data, url):\n",
    "    response = requests.post(url, data)\n",
    "    return response.json()['result']\n",
    "data = '{\"jsonrpc\":\"2.0\",\"method\":\"ibft_getSignerMetrics\",\"params\":[\"1\", \"1000\"], \"id\":1}'\n",
    "res = call(data, urls[nodes[0]])\n",
    "res"
   ]
  },
  {
   "cell_type": "markdown",
   "metadata": {},
   "source": [
    "## Websocket request"
   ]
  },
  {
   "cell_type": "code",
   "execution_count": 7,
   "metadata": {},
   "outputs": [
    {
     "name": "stdout",
     "output_type": "stream",
     "text": [
      "{\"jsonrpc\":\"2.0\",\"id\":1,\"result\":[{\"address\":\"0xd3100a2745437deac5e404d6bb4e254e1f897e49\",\"proposedBlockCount\":\"0x3e\",\"lastProposedBlockNumber\":\"0x3da\"},{\"address\":\"0xd3e3869a3527c0a0b682a557665a3d3207adc4c8\",\"proposedBlockCount\":\"0x3e\",\"lastProposedBlockNumber\":\"0x3db\"},{\"address\":\"0x6ae48a0942dd1250f94f7a23fce5212e11d1fce8\",\"proposedBlockCount\":\"0x3f\",\"lastProposedBlockNumber\":\"0x3e3\"},{\"address\":\"0xb0c57f2fafc548c14cdb9ded00d4b5f504ce6ac2\",\"proposedBlockCount\":\"0x3e\",\"lastProposedBlockNumber\":\"0x3d9\"},{\"address\":\"0xe0b6beafa380327f02a2a14c0c73d3499e19d818\",\"proposedBlockCount\":\"0x3e\",\"lastProposedBlockNumber\":\"0x3dc\"},{\"address\":\"0x914ff403d86c9afdb323c09485893f3530fa22b1\",\"proposedBlockCount\":\"0x3f\",\"lastProposedBlockNumber\":\"0x3e6\"},{\"address\":\"0x7a400f14cecf98a6914e522644b46f56f816b60e\",\"proposedBlockCount\":\"0x3f\",\"lastProposedBlockNumber\":\"0x3e5\"},{\"address\":\"0x0e1fad5411acef71d91120b74b4ad897dddb5a2e\",\"proposedBlockCount\":\"0x3e\",\"lastProposedBlockNumber\":\"0x3df\"},{\"address\":\"0xac66a4a95975f684ffa7edf71a528d812f698658\",\"proposedBlockCount\":\"0x3e\",\"lastProposedBlockNumber\":\"0x3d8\"},{\"address\":\"0x43d9154512464c4f4687750627e9e6e0f593e76f\",\"proposedBlockCount\":\"0x3e\",\"lastProposedBlockNumber\":\"0x3e0\"},{\"address\":\"0x6f7c35ac475f939f0807ba44a93057b2d4a3894d\",\"proposedBlockCount\":\"0x3f\",\"lastProposedBlockNumber\":\"0x3e4\"},{\"address\":\"0xfedf1fe7deb10a26725f663879135ab05496695e\",\"proposedBlockCount\":\"0x3e\",\"lastProposedBlockNumber\":\"0x3de\"},{\"address\":\"0xfbc35bbe349bdde5b26dd011060dde7d70e24bc1\",\"proposedBlockCount\":\"0x3e\",\"lastProposedBlockNumber\":\"0x3dd\"},{\"address\":\"0xac28ee1a95b90c013ff0fd2ab79e425232539d01\",\"proposedBlockCount\":\"0x3f\",\"lastProposedBlockNumber\":\"0x3e7\"},{\"address\":\"0x617a776c74b8bc67c3e7eb108f0ec0bdcfb43ae0\",\"proposedBlockCount\":\"0x3f\",\"lastProposedBlockNumber\":\"0x3e2\"},{\"address\":\"0x6085724e35c0c8d5a8ea9493d1ea0997d675df1a\",\"proposedBlockCount\":\"0x3f\",\"lastProposedBlockNumber\":\"0x3e1\"}]}\n"
     ]
    }
   ],
   "source": [
    "ws = websocket.WebSocket()\n",
    "ws.connect(\"ws://192.168.226.109:8546\")\n",
    "ws.send('{\"jsonrpc\":\"2.0\",\"method\":\"ibft_getSignerMetrics\",\"params\":[\"1\", \"1000\"], \"id\":1}')\n",
    "print(ws.recv())"
   ]
  },
  {
   "cell_type": "code",
   "execution_count": null,
   "metadata": {},
   "outputs": [],
   "source": []
  },
  {
   "cell_type": "code",
   "execution_count": 29,
   "metadata": {},
   "outputs": [
    {
     "name": "stdout",
     "output_type": "stream",
     "text": [
      "{\"jsonrpc\":\"2.0\",\"id\":1,\"result\":[{\"address\":\"0x5f2f71a4081e14f1c148abd5ae0bad56a8f95e12\",\"proposedBlockCount\":\"0x2f\",\"lastProposedBlockNumber\":\"0x173\"},{\"address\":\"0x85c22b8213052b1a35fb7f53c12c6571641fe6bd\",\"proposedBlockCount\":\"0x2f\",\"lastProposedBlockNumber\":\"0x175\"},{\"address\":\"0x8966f9688eccdecad4e1b8abe6345f47db5863ec\",\"proposedBlockCount\":\"0x2f\",\"lastProposedBlockNumber\":\"0x176\"},{\"address\":\"0x62e263c4aece42f7d8cacb6c4630125adefb9f0c\",\"proposedBlockCount\":\"0x2f\",\"lastProposedBlockNumber\":\"0x174\"},{\"address\":\"0x4b72c8817621bbafb0c13fb86fe325df04dff44d\",\"proposedBlockCount\":\"0x2f\",\"lastProposedBlockNumber\":\"0x172\"},{\"address\":\"0xf4a6d02060ee344bb26dcc98633ff2399c8d9d9e\",\"proposedBlockCount\":\"0x2f\",\"lastProposedBlockNumber\":\"0x177\"},{\"address\":\"0x2aa94c4502d98e426d36ffb7fde2f24821def1ca\",\"proposedBlockCount\":\"0x30\",\"lastProposedBlockNumber\":\"0x179\"},{\"address\":\"0x13bc976505f60f7252d5770b71d15c1b88db30ce\",\"proposedBlockCount\":\"0x2f\",\"lastProposedBlockNumber\":\"0x178\"}]}\n"
     ]
    }
   ],
   "source": [
    "ws = websocket.WebSocket()\n",
    "ws.connect(\"ws://192.168.226.10:8546\")\n",
    "ws.send('{\"jsonrpc\":\"2.0\",\"method\":\"ibft_getSignerMetrics\",\"params\":[\"1\", \"1000\"], \"id\":1}')\n",
    "print(ws.recv())"
   ]
  },
  {
   "cell_type": "code",
   "execution_count": 21,
   "metadata": {},
   "outputs": [
    {
     "ename": "OSError",
     "evalue": "[Errno 101] Network is unreachable",
     "output_type": "error",
     "traceback": [
      "\u001b[0;31m---------------------------------------------------------------------------\u001b[0m",
      "\u001b[0;31mOSError\u001b[0m                                   Traceback (most recent call last)",
      "\u001b[0;32m/tmp/ipykernel_2721/4095205537.py\u001b[0m in \u001b[0;36m<module>\u001b[0;34m\u001b[0m\n\u001b[1;32m      1\u001b[0m \u001b[0mws\u001b[0m \u001b[0;34m=\u001b[0m \u001b[0mwebsocket\u001b[0m\u001b[0;34m.\u001b[0m\u001b[0mWebSocket\u001b[0m\u001b[0;34m(\u001b[0m\u001b[0;34m)\u001b[0m\u001b[0;34m\u001b[0m\u001b[0;34m\u001b[0m\u001b[0m\n\u001b[0;32m----> 2\u001b[0;31m \u001b[0mws\u001b[0m\u001b[0;34m.\u001b[0m\u001b[0mconnect\u001b[0m\u001b[0;34m(\u001b[0m\u001b[0;34m\"ws://10.2.12.109:8546\"\u001b[0m\u001b[0;34m)\u001b[0m\u001b[0;34m\u001b[0m\u001b[0;34m\u001b[0m\u001b[0m\n\u001b[0m\u001b[1;32m      3\u001b[0m \u001b[0mws\u001b[0m\u001b[0;34m.\u001b[0m\u001b[0msend\u001b[0m\u001b[0;34m(\u001b[0m\u001b[0;34m'{\"jsonrpc\":\"2.0\",\"method\":\"ibft_getSignerMetrics\",\"params\":[\"1\", \"1000\"], \"id\":1}'\u001b[0m\u001b[0;34m)\u001b[0m\u001b[0;34m\u001b[0m\u001b[0;34m\u001b[0m\u001b[0m\n\u001b[1;32m      4\u001b[0m \u001b[0mprint\u001b[0m\u001b[0;34m(\u001b[0m\u001b[0mws\u001b[0m\u001b[0;34m.\u001b[0m\u001b[0mrecv\u001b[0m\u001b[0;34m(\u001b[0m\u001b[0;34m)\u001b[0m\u001b[0;34m)\u001b[0m\u001b[0;34m\u001b[0m\u001b[0;34m\u001b[0m\u001b[0m\n",
      "\u001b[0;32m/usr/local/lib/python3.8/dist-packages/websocket/_core.py\u001b[0m in \u001b[0;36mconnect\u001b[0;34m(self, url, **options)\u001b[0m\n\u001b[1;32m    247\u001b[0m         \"\"\"\n\u001b[1;32m    248\u001b[0m         \u001b[0mself\u001b[0m\u001b[0;34m.\u001b[0m\u001b[0msock_opt\u001b[0m\u001b[0;34m.\u001b[0m\u001b[0mtimeout\u001b[0m \u001b[0;34m=\u001b[0m \u001b[0moptions\u001b[0m\u001b[0;34m.\u001b[0m\u001b[0mget\u001b[0m\u001b[0;34m(\u001b[0m\u001b[0;34m'timeout'\u001b[0m\u001b[0;34m,\u001b[0m \u001b[0mself\u001b[0m\u001b[0;34m.\u001b[0m\u001b[0msock_opt\u001b[0m\u001b[0;34m.\u001b[0m\u001b[0mtimeout\u001b[0m\u001b[0;34m)\u001b[0m\u001b[0;34m\u001b[0m\u001b[0;34m\u001b[0m\u001b[0m\n\u001b[0;32m--> 249\u001b[0;31m         self.sock, addrs = connect(url, self.sock_opt, proxy_info(**options),\n\u001b[0m\u001b[1;32m    250\u001b[0m                                    options.pop('socket', None))\n\u001b[1;32m    251\u001b[0m \u001b[0;34m\u001b[0m\u001b[0m\n",
      "\u001b[0;32m/usr/local/lib/python3.8/dist-packages/websocket/_http.py\u001b[0m in \u001b[0;36mconnect\u001b[0;34m(url, options, proxy, socket)\u001b[0m\n\u001b[1;32m    128\u001b[0m     \u001b[0msock\u001b[0m \u001b[0;34m=\u001b[0m \u001b[0;32mNone\u001b[0m\u001b[0;34m\u001b[0m\u001b[0;34m\u001b[0m\u001b[0m\n\u001b[1;32m    129\u001b[0m     \u001b[0;32mtry\u001b[0m\u001b[0;34m:\u001b[0m\u001b[0;34m\u001b[0m\u001b[0;34m\u001b[0m\u001b[0m\n\u001b[0;32m--> 130\u001b[0;31m         \u001b[0msock\u001b[0m \u001b[0;34m=\u001b[0m \u001b[0m_open_socket\u001b[0m\u001b[0;34m(\u001b[0m\u001b[0maddrinfo_list\u001b[0m\u001b[0;34m,\u001b[0m \u001b[0moptions\u001b[0m\u001b[0;34m.\u001b[0m\u001b[0msockopt\u001b[0m\u001b[0;34m,\u001b[0m \u001b[0moptions\u001b[0m\u001b[0;34m.\u001b[0m\u001b[0mtimeout\u001b[0m\u001b[0;34m)\u001b[0m\u001b[0;34m\u001b[0m\u001b[0;34m\u001b[0m\u001b[0m\n\u001b[0m\u001b[1;32m    131\u001b[0m         \u001b[0;32mif\u001b[0m \u001b[0mneed_tunnel\u001b[0m\u001b[0;34m:\u001b[0m\u001b[0;34m\u001b[0m\u001b[0;34m\u001b[0m\u001b[0m\n\u001b[1;32m    132\u001b[0m             \u001b[0msock\u001b[0m \u001b[0;34m=\u001b[0m \u001b[0m_tunnel\u001b[0m\u001b[0;34m(\u001b[0m\u001b[0msock\u001b[0m\u001b[0;34m,\u001b[0m \u001b[0mhostname\u001b[0m\u001b[0;34m,\u001b[0m \u001b[0mport\u001b[0m\u001b[0;34m,\u001b[0m \u001b[0mauth\u001b[0m\u001b[0;34m)\u001b[0m\u001b[0;34m\u001b[0m\u001b[0;34m\u001b[0m\u001b[0m\n",
      "\u001b[0;32m/usr/local/lib/python3.8/dist-packages/websocket/_http.py\u001b[0m in \u001b[0;36m_open_socket\u001b[0;34m(addrinfo_list, sockopt, timeout)\u001b[0m\n\u001b[1;32m    198\u001b[0m                     \u001b[0;32mif\u001b[0m \u001b[0msock\u001b[0m\u001b[0;34m:\u001b[0m\u001b[0;34m\u001b[0m\u001b[0;34m\u001b[0m\u001b[0m\n\u001b[1;32m    199\u001b[0m                         \u001b[0msock\u001b[0m\u001b[0;34m.\u001b[0m\u001b[0mclose\u001b[0m\u001b[0;34m(\u001b[0m\u001b[0;34m)\u001b[0m\u001b[0;34m\u001b[0m\u001b[0;34m\u001b[0m\u001b[0m\n\u001b[0;32m--> 200\u001b[0;31m                     \u001b[0;32mraise\u001b[0m \u001b[0merror\u001b[0m\u001b[0;34m\u001b[0m\u001b[0;34m\u001b[0m\u001b[0m\n\u001b[0m\u001b[1;32m    201\u001b[0m             \u001b[0;32melse\u001b[0m\u001b[0;34m:\u001b[0m\u001b[0;34m\u001b[0m\u001b[0;34m\u001b[0m\u001b[0m\n\u001b[1;32m    202\u001b[0m                 \u001b[0;32mbreak\u001b[0m\u001b[0;34m\u001b[0m\u001b[0;34m\u001b[0m\u001b[0m\n",
      "\u001b[0;32m/usr/local/lib/python3.8/dist-packages/websocket/_http.py\u001b[0m in \u001b[0;36m_open_socket\u001b[0;34m(addrinfo_list, sockopt, timeout)\u001b[0m\n\u001b[1;32m    183\u001b[0m         \u001b[0;32mwhile\u001b[0m \u001b[0;32mnot\u001b[0m \u001b[0merr\u001b[0m\u001b[0;34m:\u001b[0m\u001b[0;34m\u001b[0m\u001b[0;34m\u001b[0m\u001b[0m\n\u001b[1;32m    184\u001b[0m             \u001b[0;32mtry\u001b[0m\u001b[0;34m:\u001b[0m\u001b[0;34m\u001b[0m\u001b[0;34m\u001b[0m\u001b[0m\n\u001b[0;32m--> 185\u001b[0;31m                 \u001b[0msock\u001b[0m\u001b[0;34m.\u001b[0m\u001b[0mconnect\u001b[0m\u001b[0;34m(\u001b[0m\u001b[0maddress\u001b[0m\u001b[0;34m)\u001b[0m\u001b[0;34m\u001b[0m\u001b[0;34m\u001b[0m\u001b[0m\n\u001b[0m\u001b[1;32m    186\u001b[0m             \u001b[0;32mexcept\u001b[0m \u001b[0msocket\u001b[0m\u001b[0;34m.\u001b[0m\u001b[0merror\u001b[0m \u001b[0;32mas\u001b[0m \u001b[0merror\u001b[0m\u001b[0;34m:\u001b[0m\u001b[0;34m\u001b[0m\u001b[0;34m\u001b[0m\u001b[0m\n\u001b[1;32m    187\u001b[0m                 \u001b[0merror\u001b[0m\u001b[0;34m.\u001b[0m\u001b[0mremote_ip\u001b[0m \u001b[0;34m=\u001b[0m \u001b[0mstr\u001b[0m\u001b[0;34m(\u001b[0m\u001b[0maddress\u001b[0m\u001b[0;34m[\u001b[0m\u001b[0;36m0\u001b[0m\u001b[0;34m]\u001b[0m\u001b[0;34m)\u001b[0m\u001b[0;34m\u001b[0m\u001b[0;34m\u001b[0m\u001b[0m\n",
      "\u001b[0;31mOSError\u001b[0m: [Errno 101] Network is unreachable"
     ]
    }
   ],
   "source": [
    "ws = websocket.WebSocket()\n",
    "ws.connect(\"ws://10.2.12.109:8546\")\n",
    "ws.send('{\"jsonrpc\":\"2.0\",\"method\":\"ibft_getSignerMetrics\",\"params\":[\"1\", \"1000\"], \"id\":1}')\n",
    "print(ws.recv())"
   ]
  },
  {
   "cell_type": "code",
   "execution_count": null,
   "metadata": {},
   "outputs": [],
   "source": []
  },
  {
   "cell_type": "code",
   "execution_count": null,
   "metadata": {},
   "outputs": [],
   "source": []
  },
  {
   "cell_type": "code",
   "execution_count": null,
   "metadata": {},
   "outputs": [],
   "source": []
  },
  {
   "cell_type": "markdown",
   "metadata": {},
   "source": [
    "# Compile Smart Contracts"
   ]
  },
  {
   "cell_type": "code",
   "execution_count": null,
   "metadata": {},
   "outputs": [],
   "source": [
    "from solcx import install_solc\n",
    "install_solc(version='latest')"
   ]
  },
  {
   "cell_type": "code",
   "execution_count": null,
   "metadata": {},
   "outputs": [],
   "source": [
    "from solcx import compile_source\n",
    "import json\n",
    "\n",
    "compiled_contract = '../build/contracts/SimpleStorage.json'\n",
    "with open(compiled_contract) as f:\n",
    "    data = json.load(f)\n",
    "    abi = data['abi']\n",
    "    bin = data['bytecode']\n",
    "\n",
    "compiled_sol = compile_source(\n",
    "    '''\n",
    "    // SPDX-License-Identifier: MIT\n",
    "    pragma solidity >=0.7.0;\n",
    "\n",
    "    contract SimpleStorage {\n",
    "        uint public storedData;\n",
    "\n",
    "        constructor(uint initVal) {\n",
    "            storedData = initVal;\n",
    "        }\n",
    "\n",
    "        function set(uint x) public {\n",
    "            storedData = x;\n",
    "        }\n",
    "\n",
    "        function get() view public returns (uint retVal) {\n",
    "            return storedData;\n",
    "        }\n",
    "    }\n",
    "    ''',\n",
    "    output_values=['abi', 'bin']\n",
    ")\n",
    "contract_id, contract_interface = compiled_sol.popitem()\n",
    "bytecode = contract_interface['bin']\n",
    "abi = contract_interface['abi']"
   ]
  },
  {
   "cell_type": "markdown",
   "metadata": {},
   "source": [
    "# Ganache"
   ]
  },
  {
   "cell_type": "code",
   "execution_count": null,
   "metadata": {},
   "outputs": [],
   "source": [
    "w3 = Web3(Web3.HTTPProvider('HTTP://127.0.0.1:7545'))\n",
    "simpleStorage = w3.eth.contract(abi=abi, bytecode=bytecode)\n",
    "w3.eth.default_account = w3.eth.accounts[0]\n",
    "\n",
    "# submit the transaction that deploys the contract\n",
    "tx_hash = simpleStorage.constructor(100).transact()\n",
    "tx_receipt = w3.eth.wait_for_transaction_receipt(tx_hash)\n",
    "tx_receipt"
   ]
  },
  {
   "cell_type": "code",
   "execution_count": null,
   "metadata": {},
   "outputs": [],
   "source": [
    "s = w3.eth.contract(address=tx_receipt.contractAddress, abi=abi)\n",
    "print(w3.eth.get_code(s.address))\n",
    "s.functions.get().call()"
   ]
  },
  {
   "cell_type": "code",
   "execution_count": null,
   "metadata": {},
   "outputs": [],
   "source": [
    "tx_hash = s.functions.set(200).transact()\n",
    "tx_receipt = w3.eth.wait_for_transaction_receipt(tx_hash)\n",
    "s.functions.get().call()"
   ]
  },
  {
   "cell_type": "code",
   "execution_count": null,
   "metadata": {},
   "outputs": [],
   "source": [
    "data = '{\"jsonrpc\":\"2.0\",\"method\":\"admin_nodeInfo\",\"params\":[],\"id\":1}'\n",
    "nodeinfo = call(data, urls[nodes[0]])\n",
    "nodeinfo"
   ]
  },
  {
   "cell_type": "code",
   "execution_count": null,
   "metadata": {},
   "outputs": [],
   "source": [
    "# adding a validator\n",
    "data = '{\"jsonrpc\":\"2.0\",\"method\":\"ibft_proposeValidatorVote\",\"params\":[\"0x4fe188ada84c5611c4cf685e1fd98336b9b5cc9d\", true], \"id\":1}'\n",
    "for node in nodes[:4]:\n",
    "    url = urls[node]\n",
    "    response = requests.post(url=url, data=data)\n",
    "    print(node, ': ', response.json())"
   ]
  },
  {
   "cell_type": "code",
   "execution_count": null,
   "metadata": {},
   "outputs": [],
   "source": [
    "data = '{\"jsonrpc\":\"2.0\",\"method\":\"ibft_getValidatorsByBlockNumber\",\"params\":[\"latest\"], \"id\":1}'\n",
    "response = requests.post(urls[nodes[0]], data=data)\n",
    "response.json()"
   ]
  },
  {
   "cell_type": "code",
   "execution_count": null,
   "metadata": {},
   "outputs": [],
   "source": [
    "# removing a validator\n",
    "data = '{\"jsonrpc\":\"2.0\",\"method\":\"ibft_proposeValidatorVote\",\"params\":[\"0x4fe188ada84c5611c4cf685e1fd98336b9b5cc9d\", false], \"id\":1}'\n",
    "for node in nodes[:4]:\n",
    "    url = urls[node]\n",
    "    response = requests.post(url=url, data=data)\n",
    "    print(node, ': ', response.json())"
   ]
  },
  {
   "cell_type": "code",
   "execution_count": null,
   "metadata": {},
   "outputs": [],
   "source": [
    "data = '{\"jsonrpc\":\"2.0\",\"method\":\"ibft_getValidatorsByBlockNumber\",\"params\":[\"latest\"], \"id\":1}'\n",
    "validators = call(url=urls[nodes[0]], data=data)\n",
    "validators"
   ]
  },
  {
   "cell_type": "code",
   "execution_count": null,
   "metadata": {},
   "outputs": [],
   "source": [
    "data = '{\"jsonrpc\":\"2.0\",\"method\":\"net_enode\",\"params\":[],\"id\":1}'\n",
    "enode = call(url=urls[nodes[0]], data=data)\n",
    "enode"
   ]
  },
  {
   "cell_type": "code",
   "execution_count": null,
   "metadata": {},
   "outputs": [],
   "source": [
    "# return chainID\n",
    "data = '{\"jsonrpc\":\"2.0\",\"method\":\"eth_chainId\",\"params\":[],\"id\":51}'\n",
    "chainId = call(url=urls[nodes[0]], data=data)\n",
    "int(chainId, 0)"
   ]
  },
  {
   "cell_type": "code",
   "execution_count": null,
   "metadata": {},
   "outputs": [],
   "source": [
    "# Returns the index corresponding to the block number of the current chain head.\n",
    "import datetime\n",
    "data = '{\"jsonrpc\":\"2.0\",\"method\":\"eth_blockNumber\",\"params\":[],\"id\":51}'\n",
    "blockNum = call(url=urls[nodes[0]], data=data)\n",
    "print(datetime.datetime.now(), int(blockNum, 0))"
   ]
  },
  {
   "cell_type": "code",
   "execution_count": null,
   "metadata": {},
   "outputs": [],
   "source": [
    "data = '{\"jsonrpc\":\"2.0\",\"method\":\"eth_protocolVersion\",\"params\":[],\"id\":1}'\n",
    "protocalVersion = call(data, urls[nodes[0]])\n",
    "int(protocalVersion, 0)"
   ]
  },
  {
   "cell_type": "code",
   "execution_count": null,
   "metadata": {},
   "outputs": [],
   "source": [
    "# txHash = '0xc22f96855f20417ad9bf156bddc1a0244be947294de5aeaa6ae287a1771f409f'\n",
    "data = '{\"jsonrpc\":\"2.0\",\"method\":\"eth_getTransactionReceipt\",\"params\":[\"0xc22f96855f20417ad9bf156bddc1a0244be947294de5aeaa6ae287a1771f409f\"],\"id\":53}'\n",
    "receipt = call(data, urls[nodes[0]])\n",
    "receipt"
   ]
  },
  {
   "cell_type": "code",
   "execution_count": null,
   "metadata": {},
   "outputs": [],
   "source": [
    "# get block by number\n",
    "from datetime import datetime\n",
    "data = '{\"jsonrpc\":\"2.0\",\"method\":\"eth_getBlockByNumber\",\"params\":[\"latest\", true],\"id\":1}'\n",
    "block = call(data)\n",
    "startBlock = int(block['number'], 0)\n",
    "print(datetime.now(), startBlock)"
   ]
  },
  {
   "cell_type": "code",
   "execution_count": null,
   "metadata": {},
   "outputs": [],
   "source": [
    "data = '{\"jsonrpc\":\"2.0\",\"method\":\"eth_getBlockByNumber\",\"params\":[\"latest\", true],\"id\":1}'\n",
    "block = call(data)\n",
    "endBlock = int(block['number'], 0)\n",
    "print(datetime.now(), endBlock)"
   ]
  },
  {
   "cell_type": "code",
   "execution_count": null,
   "metadata": {},
   "outputs": [],
   "source": [
    "blocks = []\n",
    "for i in range(startBlock, endBlock):\n",
    "    data = '{\"jsonrpc\":\"2.0\",\"method\":\"eth_getBlockByNumber\",\"params\":[\"%d\", true],\"id\":1}' % i\n",
    "    block = call(data)\n",
    "    if len(block['transactions']) != 0:\n",
    "        print(int(block['number'], 0), 'has', len(block['transactions']), 'tranactions')\n",
    "        blocks.append(int(block['number'], 0))"
   ]
  },
  {
   "cell_type": "code",
   "execution_count": null,
   "metadata": {},
   "outputs": [],
   "source": [
    "for block in blocks:\n",
    "    data = '{\"jsonrpc\":\"2.0\",\"method\":\"eth_getBlockByNumber\",\"params\":[\"%d\", true],\"id\":1}' % block\n",
    "    blockData = call(data)\n",
    "    value = int(blockData['transactions'][0]['value'], 0)\n",
    "    if value != 0:\n",
    "        print(block, 'has value ', value)"
   ]
  },
  {
   "cell_type": "code",
   "execution_count": null,
   "metadata": {},
   "outputs": [],
   "source": [
    "data = '{\"jsonrpc\":\"2.0\",\"method\":\"eth_getBlockByNumber\",\"params\":[\"%d\", true],\"id\":1}' % 63615\n",
    "block = call(data)\n",
    "block"
   ]
  },
  {
   "cell_type": "code",
   "execution_count": null,
   "metadata": {},
   "outputs": [],
   "source": [
    "data = '{\"jsonrpc\":\"2.0\",\"method\":\"eth_getBlockByNumber\",\"params\":[\"0x6a3e\", true],\"id\":1}'\n",
    "block = call(data)\n",
    "block"
   ]
  },
  {
   "cell_type": "code",
   "execution_count": null,
   "metadata": {},
   "outputs": [],
   "source": [
    "int('0xde0b6b3a7640000', 0)"
   ]
  },
  {
   "cell_type": "code",
   "execution_count": null,
   "metadata": {},
   "outputs": [],
   "source": [
    "w3.eth.get_block(blocks[10]).size"
   ]
  },
  {
   "cell_type": "code",
   "execution_count": null,
   "metadata": {},
   "outputs": [],
   "source": [
    "w3.eth.get_block(blocks[10]).size"
   ]
  },
  {
   "cell_type": "code",
   "execution_count": null,
   "metadata": {},
   "outputs": [],
   "source": [
    "# block size comparison: 63615 (200tx) vs 0(0tx)\n",
    "blks = [0, 63615]\n",
    "for b in blks:\n",
    "    print('block ', b, ' size is ', w3.eth.get_block(b).size, ' Bytes')"
   ]
  },
  {
   "cell_type": "markdown",
   "metadata": {},
   "source": [
    "# Rinkeby Test"
   ]
  },
  {
   "cell_type": "code",
   "execution_count": null,
   "metadata": {},
   "outputs": [],
   "source": [
    "import requests\n",
    "\n",
    "# rrg Rinkeby Besu node: eth-rinkeby-cx\n",
    "ipAddresses = ['206.12.93.74']\n",
    "# get a list of peers/ip addresses of eth-rinkeby-cx\n",
    "data = '{\"jsonrpc\":\"2.0\",\"method\":\"admin_peers\",\"params\":[],\"id\":1}'\n",
    "response = requests.post(url='http://'+ipAddresses[0]+':8545', data=data)\n",
    "for res in response.json()['result']:\n",
    "    ipAddresses.append(res['enode'].split('@')[1].split(':')[0])\n",
    "urls = ['http://'+ip+':8545' for ip in ipAddresses]\n",
    "# trying to connect each peer\n",
    "for url in urls:\n",
    "    provider = Web3.HTTPProvider(url)\n",
    "    w3 = Web3(provider)\n",
    "    w3.middleware_onion.inject(geth_poa_middleware, layer=0)\n",
    "    # if connected successfully, send a request to add eth-rinkeby-cx as a signer\n",
    "    if(w3.isConnected()):\n",
    "        data = '{\"jsonrpc\":\"2.0\",\"method\":\"clique_propose\",\"params\":[\"0x4fe188ada84c5611c4cf685e1fd98336b9b5cc9d\", true], \"id\":1}'\n",
    "        response = requests.post(url=url, data=data)\n",
    "        print(url, ' added signer ', response)"
   ]
  },
  {
   "cell_type": "code",
   "execution_count": null,
   "metadata": {},
   "outputs": [],
   "source": [
    "data = '{\"jsonrpc\":\"2.0\",\"method\":\"clique_getSigners\",\"params\":[\"latest\"], \"id\":1}'\n",
    "response = requests.post(url=urls[0], data=data)\n",
    "response"
   ]
  },
  {
   "cell_type": "code",
   "execution_count": null,
   "metadata": {},
   "outputs": [],
   "source": [
    "response.json()"
   ]
  },
  {
   "cell_type": "markdown",
   "metadata": {},
   "source": [
    "# Besu Eth Transactions"
   ]
  },
  {
   "cell_type": "code",
   "execution_count": null,
   "metadata": {},
   "outputs": [],
   "source": [
    "import subprocess, os, json\n",
    "from web3 import Web3\n",
    "\n",
    "w3 = Web3(Web3.HTTPProvider(httpUrls[nodes[0]]))\n",
    "print('Connected to Besu: ', w3.isConnected())\n",
    "genesisFile = \"genesis.json\"\n",
    "# key = \"../data/rrg-bpet\"\n",
    "# subprocess.run(['scp', '-i', key, \"-o\", \"StrictHostKeyChecking=no\", \n",
    "#         \"ubuntu@{}:/home/ubuntu/bpet/deploy/{}\".format(ipAddresses[0], genesisFile), os.getcwd()], stdout=None)\n",
    "with open(genesisFile, 'r') as f:\n",
    "    data = json.load(f)['alloc']\n",
    "\n",
    "addrKeys = [addr for addr in data.keys()]\n",
    "addrs = [Web3.toChecksumAddress(addr) for addr in addrKeys]\n",
    "print('The first privateKey:', data[addrKeys[0]]['privateKey'])\n",
    "def get_balance(address):\n",
    "    balance_bank = w3.eth.getBalance(address)\n",
    "    return w3.fromWei(balance_bank, \"ether\")\n",
    "for i in range(len(addrs)):\n",
    "    addr = addrs[i]\n",
    "    addrKey = addrKeys[i]\n",
    "    print(addr, ': ', get_balance(addr), data[addrKey]['privateKey'])"
   ]
  },
  {
   "cell_type": "code",
   "execution_count": null,
   "metadata": {},
   "outputs": [],
   "source": [
    "# send transactions: send value from one account to another (stephen's account)\n",
    "to_addr = '0x2c45CbE25efD7442AAbbAF6633A88Ef4E139586d'\n",
    "from_addr = addrs[9]\n",
    "print('Origianal balance of ',to_addr, ': ', get_balance(to_addr))\n",
    "txn_opts = {\n",
    "    'from': addrs[9],\n",
    "    'to': to_addr,\n",
    "    'value': w3.toWei(100, 'ether'),\n",
    "    'gas': 90000,\n",
    "    'gasPrice': 18000000000,\n",
    "    'nonce': w3.eth.getTransactionCount(from_addr),\n",
    "    'chainId': 1337\n",
    "}\n",
    "from_priv_key = data[addrKeys[9]]['privateKey']\n",
    "signed_txn = w3.eth.account.sign_transaction(txn_opts, from_priv_key)\n",
    "tx_hash = w3.eth.sendRawTransaction(signed_txn.rawTransaction)\n",
    "receipt = w3.eth.waitForTransactionReceipt(tx_hash)\n",
    "print('New balance of ',to_addr, ': ', get_balance(to_addr))\n",
    "receipt"
   ]
  },
  {
   "cell_type": "markdown",
   "metadata": {},
   "source": [
    "# Besu Smart Contracts"
   ]
  },
  {
   "cell_type": "code",
   "execution_count": null,
   "metadata": {},
   "outputs": [],
   "source": [
    "import subprocess, os, json\n",
    "from web3 import Web3\n",
    "\n",
    "w3 = Web3(Web3.HTTPProvider(httpUrls[nodes[0]]))\n",
    "print('Connected to Besu: ', w3.isConnected())\n",
    "genesisFile = \"genesis.json\"\n",
    "# key = \"../data/rrg-bpet\"\n",
    "# subprocess.run(['scp', '-i', key, \"-o\", \"StrictHostKeyChecking=no\", \n",
    "#         \"ubuntu@{}:/home/ubuntu/bpet/deploy/{}\".format(ipAddresses[0], genesisFile), os.getcwd()], stdout=None)\n",
    "with open(genesisFile, 'r') as f:\n",
    "    data = json.load(f)['alloc']\n",
    "\n",
    "addrKeys = [addr for addr in data.keys()]\n",
    "addrs = [Web3.toChecksumAddress(addr) for addr in addrKeys]\n",
    "print('The first privateKey:', data[addrKeys[0]]['privateKey'])\n",
    "def get_balance(address):\n",
    "    balance_bank = w3.eth.getBalance(address)\n",
    "    return w3.fromWei(balance_bank, \"ether\")\n",
    "for i in range(len(addrs)):\n",
    "    addr = addrs[i]\n",
    "    addrKey = addrKeys[i]\n",
    "    print(addr, ': ', get_balance(addr), data[addrKey]['privateKey'])"
   ]
  },
  {
   "cell_type": "code",
   "execution_count": null,
   "metadata": {},
   "outputs": [],
   "source": [
    "import json\n",
    "from web3 import Web3\n",
    "from web3.middleware import geth_poa_middleware\n",
    "w3 = Web3(Web3.HTTPProvider(httpUrls[nodes[3]]))\n",
    "w3.middleware_onion.inject(geth_poa_middleware, layer=0)\n",
    "\n",
    "genesisFile = 'genesis.json'\n",
    "with open(genesisFile, 'r') as f:\n",
    "    data = json.load(f)['alloc']\n",
    "addrKeys = [addr for addr in data.keys()]\n",
    "addrs = [Web3.toChecksumAddress(addr) for addr in addrKeys]\n",
    "\n",
    "print('Connected to Besu: ', w3.isConnected(), 'Node: ', httpUrls[nodes[3]], w3.clientVersion)\n",
    "\n",
    "with open('../build/contracts/SimpleStorage.json') as file:\n",
    "    compiled = json.load(file)\n",
    "contractAbi = compiled['abi']\n",
    "contractBin = compiled['bytecode']\n",
    "contractInit = \"000000000000000000000000000000000000000000000000000000000000002F\"\n",
    "fromAddress = addrs[3]\n",
    "\n",
    "rawtxOptions = {\n",
    "    'nonce': w3.eth.get_transaction_count(fromAddress),\n",
    "    'from': fromAddress,\n",
    "    'to': None,\n",
    "    'value': '0x00',\n",
    "    'data': contractBin+contractInit,\n",
    "    'gas': 90000,\n",
    "    'gasPrice': 18000000000,\n",
    "    'chainId': 1337\n",
    "}\n",
    "\n",
    "priv_key = data[addrKeys[3]]['privateKey']\n",
    "signed_txn = w3.eth.account.sign_transaction(rawtxOptions, priv_key)\n",
    "tx_hash = w3.eth.send_raw_transaction(signed_txn.rawTransaction)\n",
    "receipt = w3.eth.wait_for_transaction_receipt(tx_hash)\n",
    "receipt"
   ]
  },
  {
   "cell_type": "code",
   "execution_count": null,
   "metadata": {},
   "outputs": [],
   "source": [
    "w3.eth.get_code(receipt.contractAddress)"
   ]
  },
  {
   "cell_type": "code",
   "execution_count": null,
   "metadata": {},
   "outputs": [],
   "source": [
    "contract = w3.eth.contract(abi=contractAbi)"
   ]
  },
  {
   "cell_type": "code",
   "execution_count": null,
   "metadata": {},
   "outputs": [],
   "source": [
    "contractAddress = '0x674e099fACd86e7267dF794F72ea38274bbA86A0'\n",
    "contract = w3.eth.contract(address=contractAddress, abi=contractAbi)\n",
    "w3.eth.getCode(contract.address)"
   ]
  },
  {
   "cell_type": "markdown",
   "metadata": {},
   "source": [
    "contract.functions.get().call()"
   ]
  },
  {
   "cell_type": "code",
   "execution_count": null,
   "metadata": {},
   "outputs": [],
   "source": [
    "contracts = ['EnergyCoin', 'PaymentSettlement', 'PoolMarket']\n",
    "contractAddresses = {'EnergyCoin': '0x8eB9147a7b1cfD5d20dC5bc15ca60c16F0D871cb',\n",
    "    'PaymentSettlement': '0xf1D795F56996eC57820449Ee14Dd710dAb0c8E8f',\n",
    "    'PoolMarket': '0x122Aab2C3A3f73200315b2e417236259415c7C25'}\n",
    "contracts = contractAddresses.keys()\n",
    "\n",
    "abis = {}\n",
    "for contract in list(contracts):\n",
    "    with open('../build/contracts/{}.json'.format(contract)) as file:\n",
    "        compiled = json.load(file)\n",
    "    contractAbi = compiled['abi']\n",
    "    abis[contract] = contractAbi"
   ]
  },
  {
   "cell_type": "code",
   "execution_count": null,
   "metadata": {},
   "outputs": [],
   "source": [
    "EnergyCoin = w3.eth.contract(\n",
    "    address=contractAddresses['EnergyCoin'],\n",
    "    abi=abis['EnergyCoin'],\n",
    ")\n",
    "\n",
    "EnergyCoin.functions.getMyOwnBalance().call()"
   ]
  }
 ],
 "metadata": {
  "interpreter": {
   "hash": "3ce990f693ac9c58858a175d3f02682c54315deedb0a4f83a7cb6398d94f9d8b"
  },
  "kernelspec": {
   "display_name": "Python 3 (ipykernel)",
   "language": "python",
   "name": "python3"
  },
  "language_info": {
   "codemirror_mode": {
    "name": "ipython",
    "version": 3
   },
   "file_extension": ".py",
   "mimetype": "text/x-python",
   "name": "python",
   "nbconvert_exporter": "python",
   "pygments_lexer": "ipython3",
   "version": "3.8.10"
  }
 },
 "nbformat": 4,
 "nbformat_minor": 4
}
