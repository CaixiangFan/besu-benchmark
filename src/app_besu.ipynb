{
 "cells": [
  {
   "cell_type": "code",
   "execution_count": 99,
   "metadata": {},
   "outputs": [
    {
     "data": {
      "text/plain": [
       "26"
      ]
     },
     "execution_count": 99,
     "metadata": {},
     "output_type": "execute_result"
    }
   ],
   "source": [
    "import json\n",
    "from web3 import Web3\n",
    "from web3.middleware import geth_poa_middleware\n",
    "urls = {'node1': 'http://192.168.226.96:8545',\n",
    "        'node2': 'http://192.168.226.157:8545',\n",
    "        'node3': 'http://192.168.226.212:8545',\n",
    "        'node4': 'http://192.168.226.129:8545',\n",
    "        'node5': 'http://192.168.226.158:8545',\n",
    "        'node6': 'http://192.168.226.45:8545'\n",
    "    } \n",
    "provider = Web3.HTTPProvider(urls['node1'])\n",
    "w3 = Web3(provider)\n",
    "w3.middleware_onion.inject(geth_poa_middleware, layer=0)\n",
    "# w3.isConnected()\n",
    "len(w3.geth.admin.peers())"
   ]
  },
  {
   "cell_type": "code",
   "execution_count": 9,
   "metadata": {},
   "outputs": [
    {
     "name": "stdout",
     "output_type": "stream",
     "text": [
      "node1 has 5 peers\n",
      "node2 has 5 peers\n",
      "node3 has 5 peers\n",
      "node4 has 5 peers\n",
      "node5 has 6 peers\n",
      "node6 has 5 peers\n"
     ]
    }
   ],
   "source": [
    "for k,v in urls.items():\n",
    "    provider = Web3.HTTPProvider(v)\n",
    "    w3 = Web3(provider)\n",
    "    w3.middleware_onion.inject(geth_poa_middleware, layer=0)\n",
    "    # print(w3.isConnected())\n",
    "    peers = w3.geth.admin.peers()\n",
    "    print(k, 'has', len(peers), 'peers')"
   ]
  },
  {
   "cell_type": "code",
   "execution_count": 99,
   "metadata": {},
   "outputs": [
    {
     "name": "stdout",
     "output_type": "stream",
     "text": [
      "address1:  90000\n",
      "address2:  89995.998488\n",
      "address3:  90004\n"
     ]
    }
   ],
   "source": [
    "address1 = '0xfe3b557e8fb62b89f4916b721be55ceb828dbd73'\n",
    "address2 = '0x627306090abaB3A6e1400e9345bC60c78a8BEf57'\n",
    "address3 = '0xf17f52151EbEF6C7334FAD080c5704D77216b732'\n",
    "def get_balance(address):\n",
    "    balance_bank = w3.eth.getBalance(Web3.toChecksumAddress(address))\n",
    "    return w3.fromWei(balance_bank, \"ether\")\n",
    "\n",
    "print('address1: ', get_balance(address1))\n",
    "print('address2: ', get_balance(address2))\n",
    "print('address3: ', get_balance(address3))\n"
   ]
  },
  {
   "cell_type": "code",
   "execution_count": 87,
   "metadata": {},
   "outputs": [
    {
     "data": {
      "text/plain": [
       "AttributeDict({'blockHash': HexBytes('0x2d48e85cee9557f91541415bfc596b2da457cd34f92d09ad800c1b319baca824'),\n",
       " 'blockNumber': 33639,\n",
       " 'contractAddress': None,\n",
       " 'cumulativeGasUsed': 21000,\n",
       " 'from': '0x627306090abaB3A6e1400e9345bC60c78a8BEf57',\n",
       " 'gasUsed': 21000,\n",
       " 'effectiveGasPrice': 18000000000,\n",
       " 'logs': [],\n",
       " 'logsBloom': HexBytes('0x00000000000000000000000000000000000000000000000000000000000000000000000000000000000000000000000000000000000000000000000000000000000000000000000000000000000000000000000000000000000000000000000000000000000000000000000000000000000000000000000000000000000000000000000000000000000000000000000000000000000000000000000000000000000000000000000000000000000000000000000000000000000000000000000000000000000000000000000000000000000000000000000000000000000000000000000000000000000000000000000000000000000000000000000000000000'),\n",
       " 'status': 1,\n",
       " 'to': '0xf17f52151EbEF6C7334FAD080c5704D77216b732',\n",
       " 'transactionHash': HexBytes('0xe2c28b3e055e72ced8521651a5533311f7dd6829c558fc945028337edaee0002'),\n",
       " 'transactionIndex': 0})"
      ]
     },
     "execution_count": 87,
     "metadata": {},
     "output_type": "execute_result"
    }
   ],
   "source": [
    "# send transactions\n",
    "buyer_dealer_txn = {\n",
    "    'from': Web3.toChecksumAddress(address2),\n",
    "    'to': Web3.toChecksumAddress(address3),\n",
    "    'value': w3.toWei(1, 'ether'),\n",
    "    'gas': 90000,\n",
    "    'gasPrice': 18000000000,\n",
    "    'nonce': w3.eth.getTransactionCount(address2),\n",
    "    'chainId': 1337\n",
    "}\n",
    "\n",
    "buyer_priv_key = 'c87509a1c067bbde78beb793e6fa76530b6382a4c0241e5e4a9ec0a0f44dc0d3'\n",
    "signed_txn = w3.eth.account.sign_transaction(buyer_dealer_txn, buyer_priv_key)\n",
    "tx_hash = w3.eth.sendRawTransaction(signed_txn.rawTransaction)\n",
    "receipt = w3.eth.waitForTransactionReceipt(tx_hash)\n",
    "receipt"
   ]
  },
  {
   "cell_type": "code",
   "execution_count": 88,
   "metadata": {},
   "outputs": [
    {
     "name": "stdout",
     "output_type": "stream",
     "text": [
      "contract address:  0x7269435b49dFb67Dbe5460fC30Fed2b1d0C01b69\n",
      "Default contract simplestorage: 100\n"
     ]
    }
   ],
   "source": [
    "with open('../build/contracts/SimpleStorage.json') as file:\n",
    "    compiled = json.load(file)\n",
    "contractAbi = compiled['abi']\n",
    "\n",
    "contractAddress = '0xF322C60a93c7D8da76722dF93635036ad62f66ff'\n",
    "# Create the contract instance with the newly-deployed address\n",
    "contract = w3.eth.contract(\n",
    "    address=contractAddress,\n",
    "    abi=contractAbi,\n",
    ")\n",
    "\n",
    "print('contract address: ', contract.address)\n",
    "# Display the default greeting from the contract\n",
    "print('Default contract simplestorage: {}'.format(\n",
    "    contract.functions.get().call()\n",
    "))\n",
    "\n",
    "# tx_hash = contract.functions.set(120).transact()\n",
    "\n",
    "# # # Wait for transaction to be mined...\n",
    "# w3.eth.waitForTransactionReceipt(tx_hash)\n",
    "\n",
    "# # Display the new storedData value\n",
    "# print('Updated contract storedData: {}'.format(\n",
    "#     contract.functions.get().call()\n",
    "# ))"
   ]
  },
  {
   "cell_type": "code",
   "execution_count": 105,
   "metadata": {},
   "outputs": [],
   "source": [
    "contracts = ['EnergyCoin', 'PaymentSettlement', 'PoolMarket']\n",
    "contractAddresses = {'EnergyCoin': '0x8eB9147a7b1cfD5d20dC5bc15ca60c16F0D871cb',\n",
    "    'PaymentSettlement': '0xf1D795F56996eC57820449Ee14Dd710dAb0c8E8f',\n",
    "    'PoolMarket': '0x122Aab2C3A3f73200315b2e417236259415c7C25'}\n",
    "contracts = contractAddresses.keys()\n",
    "\n",
    "abis = {}\n",
    "for contract in list(contracts):\n",
    "    with open('../build/contracts/{}.json'.format(contract)) as file:\n",
    "        compiled = json.load(file)\n",
    "    contractAbi = compiled['abi']\n",
    "    abis[contract] = contractAbi"
   ]
  },
  {
   "cell_type": "code",
   "execution_count": 111,
   "metadata": {},
   "outputs": [
    {
     "data": {
      "text/plain": [
       "0"
      ]
     },
     "execution_count": 111,
     "metadata": {},
     "output_type": "execute_result"
    }
   ],
   "source": [
    "EnergyCoin = w3.eth.contract(\n",
    "    address=contractAddresses['EnergyCoin'],\n",
    "    abi=abis['EnergyCoin'],\n",
    ")\n",
    "\n",
    "EnergyCoin.functions.getMyOwnBalance().call()"
   ]
  },
  {
   "cell_type": "code",
   "execution_count": 114,
   "metadata": {},
   "outputs": [
    {
     "data": {
      "text/plain": [
       "'0xFE3B557E8Fb62b89F4916B721be55cEb828dBd73'"
      ]
     },
     "execution_count": 114,
     "metadata": {},
     "output_type": "execute_result"
    }
   ],
   "source": [
    "priKey = '33ed0291ce66f3f6f5e14a45a6edfaf375a9a8b8591f968ce8c42fb8f01498f3'\n",
    "Web3.toChecksumAddress(address1)"
   ]
  },
  {
   "cell_type": "code",
   "execution_count": null,
   "metadata": {},
   "outputs": [],
   "source": []
  }
 ],
 "metadata": {
  "interpreter": {
   "hash": "3ce990f693ac9c58858a175d3f02682c54315deedb0a4f83a7cb6398d94f9d8b"
  },
  "kernelspec": {
   "display_name": "Python 3.9.5 64-bit ('venv': venv)",
   "name": "python3"
  },
  "language_info": {
   "codemirror_mode": {
    "name": "ipython",
    "version": 3
   },
   "file_extension": ".py",
   "mimetype": "text/x-python",
   "name": "python",
   "nbconvert_exporter": "python",
   "pygments_lexer": "ipython3",
   "version": "3.9.5"
  },
  "orig_nbformat": 4
 },
 "nbformat": 4,
 "nbformat_minor": 2
}
